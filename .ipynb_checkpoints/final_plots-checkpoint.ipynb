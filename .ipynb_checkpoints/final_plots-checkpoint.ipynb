{
 "cells": [
  {
   "cell_type": "code",
   "execution_count": null,
   "metadata": {},
   "outputs": [],
   "source": [
    "import numpy as np\n",
    "from matplotlib import pyplot as plt\n",
    "from scipy import io\n",
    "import os.path as osp\n",
    "import matplotlib\n",
    "matplotlib.rc('font', size=12)\n"
   ]
  },
  {
   "cell_type": "code",
   "execution_count": null,
   "metadata": {},
   "outputs": [],
   "source": [
    "# loss_mgda_ub = [0.22587038119057062, 0.22587038119057062, 0.22587038119057062]\n",
    "loss_mgda = [0.08184345161776997, 0.08184345161776997, 0.08184345161776997]\n"
   ]
  },
  {
   "cell_type": "code",
   "execution_count": null,
   "metadata": {},
   "outputs": [],
   "source": [
    "dat = np.load(\"mtl_scalarization.npy\")\n",
    "fig = plt.figure(figsize=(10,10))\n",
    "ax = fig.add_subplot(projection='3d')\n",
    "ax.scatter(dat[:,0], dat[:,1], dat[:,2])\n",
    "# ax.scatter(loss_mgda_ub[0], loss_mgda_ub[1], loss_mgda_ub[2], c='r', marker='x', s=100)\n",
    "ax.scatter(loss_mgda[0], loss_mgda[1], loss_mgda[2], c='g', marker='x', s=100)\n",
    "\n",
    "ax.set_xlabel(r'$MSE_1$')\n",
    "ax.set_ylabel(r'$MSE_2$')\n",
    "ax.set_zlabel(r'$MSE_3$')\n",
    "# ax.invert_zaxis()\n",
    "# ax.invert_yaxis()\n",
    "\n",
    "plt.show()"
   ]
  },
  {
   "cell_type": "code",
   "execution_count": null,
   "metadata": {},
   "outputs": [],
   "source": [
    "%matplotlib notebook\n",
    "\n",
    "import numpy as np\n",
    "import matplotlib.pyplot as plt\n",
    "from mpl_toolkits.mplot3d import Axes3D\n"
   ]
  },
  {
   "cell_type": "code",
   "execution_count": null,
   "metadata": {},
   "outputs": [],
   "source": [
    "\n",
    "# Get the path of the .npy file in the directory\n",
    "file_path = 'mtl_scalarization.npy'\n",
    "\n",
    "# Load the eval_res from the .npy file\n",
    "eval_res = np.load(file_path)\n",
    "\n",
    "# Create a 3D scatter plot\n",
    "fig = plt.figure(figsize=(8, 6))\n",
    "ax = fig.add_subplot(111, projection='3d')\n",
    "\n",
    "ax.scatter(eval_res[:, 0], eval_res[:, 1], eval_res[:, 2])\n",
    "\n",
    "ax.set_xlabel(r'$MSE_1$')\n",
    "ax.set_ylabel(r'$MSE_2$')\n",
    "ax.set_zlabel(r'$MSE_3$')\n",
    "\n",
    "plt.show()\n"
   ]
  },
  {
   "cell_type": "code",
   "execution_count": null,
   "metadata": {},
   "outputs": [],
   "source": [
    "%matplotlib notebook\n",
    "\n",
    "import numpy as np\n",
    "import matplotlib.pyplot as plt\n",
    "from mpl_toolkits.mplot3d import Axes3D\n",
    "\n",
    "# Get the path of the .npy file in the directory\n",
    "file_path = 'mtl_scalarization.npy'\n",
    "\n",
    "# Load the eval_res from the .npy file\n",
    "eval_res = np.load(file_path)\n",
    "\n",
    "# Create a 3D scatter plot\n",
    "fig = plt.figure(figsize=(8, 6))\n",
    "ax = fig.add_subplot(111, projection='3d')\n",
    "\n",
    "ax.scatter(eval_res[:, 0], eval_res[:, 1], eval_res[:, 2])\n",
    "\n",
    "ax.set_xlabel(r'$MSE_1$')\n",
    "ax.set_ylabel(r'$MSE_2$')\n",
    "ax.set_zlabel(r'$MSE_3$')\n",
    "\n",
    "plt.show()\n"
   ]
  },
  {
   "cell_type": "code",
   "execution_count": null,
   "metadata": {},
   "outputs": [],
   "source": [
    "# creating 3d plot using matplotlib \n",
    "# in python \n",
    "\n",
    "# for creating a responsive plot \n",
    "%matplotlib widget \n",
    "\n",
    "# importing required libraries \n",
    "from mpl_toolkits.mplot3d import Axes3D \n",
    "import matplotlib.pyplot as plt \n",
    "\n",
    "# creating random dataset \n",
    "xs = [14, 24, 43, 47, 54, 66, 74, 89, 12, \n",
    "\t44, 1, 2, 3, 4, 5, 9, 8, 7, 6, 5] \n",
    "\n",
    "ys = [0, 1, 2, 3, 4, 5, 6, 7, 8, 9, 6, 3, \n",
    "\t5, 2, 4, 1, 8, 7, 0, 5] \n",
    "\n",
    "zs = [9, 6, 3, 5, 2, 4, 1, 8, 7, 0, 1, 2, \n",
    "\t3, 4, 5, 6, 7, 8, 9, 0] \n",
    "\n",
    "# creating figure \n",
    "fig = plt.figure() \n",
    "ax = Axes3D(fig) \n",
    "\n",
    "# creating the plot \n",
    "plot_geeks = ax.scatter(xs, ys, zs, color='green') \n",
    "\n",
    "# setting title and labels \n",
    "ax.set_title(\"3D plot\") \n",
    "ax.set_xlabel('x-axis') \n",
    "ax.set_ylabel('y-axis') \n",
    "ax.set_zlabel('z-axis') \n",
    "\n",
    "# displaying the plot \n",
    "plt.show() \n"
   ]
  }
 ],
 "metadata": {
  "kernelspec": {
   "display_name": "Python 3",
   "language": "python",
   "name": "python3"
  },
  "language_info": {
   "codemirror_mode": {
    "name": "ipython",
    "version": 3
   },
   "file_extension": ".py",
   "mimetype": "text/x-python",
   "name": "python",
   "nbconvert_exporter": "python",
   "pygments_lexer": "ipython3",
   "version": "3.11.6"
  }
 },
 "nbformat": 4,
 "nbformat_minor": 2
}
